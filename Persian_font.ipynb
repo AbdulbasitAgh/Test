{
 "cells": [
  {
   "cell_type": "markdown",
   "id": "780d7c51",
   "metadata": {},
   "source": [
    " \n",
    "<div style=\"direction:rtl\"> \n",
    "    \n",
    "    \n",
    "    سلام و وقت بخير خدمت شما\n",
    "\n",
    "</div>"
   ]
  },
  {
   "cell_type": "markdown",
   "id": "59660b66",
   "metadata": {},
   "source": [
    "سلام و وقت بخير خدمت شما"
   ]
  },
  {
   "cell_type": "markdown",
   "id": "d568651d",
   "metadata": {},
   "source": [
    "خسته نباشید"
   ]
  },
  {
   "cell_type": "code",
   "execution_count": null,
   "id": "dc25f170",
   "metadata": {},
   "outputs": [],
   "source": []
  }
 ],
 "metadata": {
  "kernelspec": {
   "display_name": "Python 3 (ipykernel)",
   "language": "python",
   "name": "python3"
  },
  "language_info": {
   "codemirror_mode": {
    "name": "ipython",
    "version": 3
   },
   "file_extension": ".py",
   "mimetype": "text/x-python",
   "name": "python",
   "nbconvert_exporter": "python",
   "pygments_lexer": "ipython3",
   "version": "3.10.7"
  }
 },
 "nbformat": 4,
 "nbformat_minor": 5
}
